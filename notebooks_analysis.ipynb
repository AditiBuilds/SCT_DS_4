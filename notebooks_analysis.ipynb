{
  "cells": [
    {
      "cell_type": "markdown",
      "metadata": {},
      "source": [
        "# \ud83d\udea6 Traffic Accident Data Analysis\n",
        "This notebook performs analysis on traffic accident data based on weather, road conditions, time of day, and locations."
      ]
    },
    {
      "cell_type": "code",
      "execution_count": null,
      "metadata": {},
      "outputs": [],
      "source": [
        "# Step 1: Upload and load the dataset\n",
        "from google.colab import files\n",
        "uploaded = files.upload()\n",
        "\n",
        "import pandas as pd\n",
        "df = pd.read_csv(list(uploaded.keys())[0])\n",
        "df.head()"
      ]
    },
    {
      "cell_type": "code",
      "execution_count": null,
      "metadata": {},
      "outputs": [],
      "source": [
        "# Step 2: Analyze by time of day\n",
        "df['Time'] = pd.to_datetime(df['Time'], errors='coerce')\n",
        "df['Hour'] = df['Time'].dt.hour\n",
        "df['Hour'].value_counts().sort_index().plot(kind='bar', title='Accidents by Hour')"
      ]
    },
    {
      "cell_type": "code",
      "execution_count": null,
      "metadata": {},
      "outputs": [],
      "source": [
        "# Step 3: Analyze weather impact\n",
        "df['Weather_Condition'].value_counts().head(10).plot(kind='barh', title='Top Weather Conditions During Accidents')"
      ]
    },
    {
      "cell_type": "code",
      "execution_count": null,
      "metadata": {},
      "outputs": [],
      "source": [
        "# Step 4: Map hotspots\n",
        "import folium\n",
        "from folium.plugins import HeatMap\n",
        "\n",
        "m = folium.Map(location=[df['Latitude'].mean(), df['Longitude'].mean()], zoom_start=10)\n",
        "heat_data = [[row['Latitude'], row['Longitude']] for index, row in df.iterrows() if pd.notnull(row['Latitude']) and pd.notnull(row['Longitude'])]\n",
        "HeatMap(heat_data[:1000]).add_to(m)\n",
        "m"
      ]
    }
  ],
  "metadata": {
    "colab": {
      "name": "analysis.ipynb",
      "provenance": []
    },
    "kernelspec": {
      "display_name": "Python 3",
      "language": "python",
      "name": "python3"
    },
    "language_info": {
      "name": "python",
      "version": "3.x"
    }
  },
  "nbformat": 4,
  "nbformat_minor": 2
}